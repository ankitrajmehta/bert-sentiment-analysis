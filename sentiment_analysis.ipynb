{
  "cells": [
    {
      "cell_type": "markdown",
      "metadata": {
        "id": "view-in-github",
        "colab_type": "text"
      },
      "source": [
        "<a href=\"https://colab.research.google.com/github/ankitrajmehta/bert-sentiment-analysis/blob/main/sentiment_analysis.ipynb\" target=\"_parent\"><img src=\"https://colab.research.google.com/assets/colab-badge.svg\" alt=\"Open In Colab\"/></a>"
      ]
    },
    {
      "cell_type": "code",
      "execution_count": 1,
      "metadata": {
        "id": "cBSEeNia1_QF"
      },
      "outputs": [],
      "source": [
        "import transformers"
      ]
    },
    {
      "cell_type": "code",
      "execution_count": 2,
      "metadata": {
        "id": "rah4AudO2MqO"
      },
      "outputs": [],
      "source": [
        "import numpy as np\n",
        "import pandas as pd"
      ]
    },
    {
      "cell_type": "code",
      "execution_count": 3,
      "metadata": {
        "id": "NquPLo_PPSuF"
      },
      "outputs": [],
      "source": [
        "import os"
      ]
    },
    {
      "cell_type": "code",
      "execution_count": 4,
      "metadata": {
        "id": "0WtYMOn_PUmc"
      },
      "outputs": [],
      "source": [
        "os.environ['KAGGLE_CONFIG_DIR'] = '/content'"
      ]
    },
    {
      "cell_type": "code",
      "execution_count": 5,
      "metadata": {
        "colab": {
          "base_uri": "https://localhost:8080/"
        },
        "id": "H73p-ZkYNyjv",
        "outputId": "06a5ebb5-d770-4082-98fd-9c965a254172"
      },
      "outputs": [
        {
          "output_type": "stream",
          "name": "stdout",
          "text": [
            "Warning: Your Kaggle API key is readable by other users on this system! To fix this, you can run 'chmod 600 /content/kaggle.json'\n",
            "sentiment-analysis-dataset.zip: Skipping, found more recently modified local copy (use --force to force download)\n"
          ]
        }
      ],
      "source": [
        "!kaggle datasets download -d abhi8923shriv/sentiment-analysis-dataset"
      ]
    },
    {
      "cell_type": "code",
      "execution_count": 6,
      "metadata": {
        "colab": {
          "base_uri": "https://localhost:8080/"
        },
        "id": "in-kVMmTPn94",
        "outputId": "0eca5d14-a567-4c25-eb51-4aede0bad682"
      },
      "outputs": [
        {
          "output_type": "stream",
          "name": "stdout",
          "text": [
            "Archive:  sentiment-analysis-dataset.zip\n",
            "replace test.csv? [y]es, [n]o, [A]ll, [N]one, [r]ename: "
          ]
        }
      ],
      "source": [
        "!unzip \\*.zip && rm *.zipy"
      ]
    },
    {
      "cell_type": "code",
      "execution_count": 7,
      "metadata": {
        "id": "0ZJhawlXErU3"
      },
      "outputs": [],
      "source": [
        "df = pd.read_csv('/content/train.csv',encoding='unicode_escape')"
      ]
    },
    {
      "cell_type": "code",
      "execution_count": 8,
      "metadata": {
        "id": "vyVtKFWxQhNL"
      },
      "outputs": [],
      "source": [
        "t = list(df['text'][:200])\n",
        "y = list(df['sentiment'][:200])"
      ]
    },
    {
      "cell_type": "code",
      "execution_count": 9,
      "metadata": {
        "id": "9R6KyYqe7YeQ"
      },
      "outputs": [],
      "source": [
        "mod_name=\"cardiffnlp/twitter-roberta-base-sentiment\""
      ]
    },
    {
      "cell_type": "code",
      "execution_count": 10,
      "metadata": {
        "id": "yXYii7pG2Xlp"
      },
      "outputs": [],
      "source": [
        "classifier = transformers.pipeline(model=mod_name)"
      ]
    },
    {
      "cell_type": "code",
      "execution_count": 11,
      "metadata": {
        "id": "VrqvqLtA504N"
      },
      "outputs": [],
      "source": [
        "res=classifier(t)"
      ]
    },
    {
      "cell_type": "code",
      "source": [
        "res[0]"
      ],
      "metadata": {
        "colab": {
          "base_uri": "https://localhost:8080/"
        },
        "id": "Zu5J36GqFn_d",
        "outputId": "8363fe27-afef-4746-f5fd-edb76f5be3ec"
      },
      "execution_count": 12,
      "outputs": [
        {
          "output_type": "execute_result",
          "data": {
            "text/plain": [
              "{'label': 'LABEL_1', 'score': 0.8083176016807556}"
            ]
          },
          "metadata": {},
          "execution_count": 12
        }
      ]
    },
    {
      "cell_type": "code",
      "execution_count": 13,
      "metadata": {
        "id": "y8aO9tpnhcTC"
      },
      "outputs": [],
      "source": [
        "com = list(zip([list(d.values())[:][0].lower() for d in res],[list(d.values())[:][1] for d in res]))"
      ]
    },
    {
      "cell_type": "code",
      "execution_count": 14,
      "metadata": {
        "id": "z8qdHF89hjuM"
      },
      "outputs": [],
      "source": [
        "per=[list(d.values())[:][1] for d in res]"
      ]
    },
    {
      "cell_type": "code",
      "source": [
        "tet = [list(d.values())[:][0] for d in res]"
      ],
      "metadata": {
        "id": "5-etGOYKDNPB"
      },
      "execution_count": 15,
      "outputs": []
    },
    {
      "cell_type": "code",
      "execution_count": 16,
      "metadata": {
        "id": "sWZGJ6evaPbJ"
      },
      "outputs": [],
      "source": [
        "mapping_dict_ = {'positive': 0, 'neutral': 1, 'negative': 2}\n",
        "mapping_dict = {'LABEL_2': 0, 'LABEL_1': 1, 'LABEL_0': 2}"
      ]
    },
    {
      "cell_type": "code",
      "execution_count": 17,
      "metadata": {
        "id": "Y6F85PFCYnWH"
      },
      "outputs": [],
      "source": [
        "y_p = [mapping_dict[element] for element in tet]\n",
        "y_new = [mapping_dict_[element] for element in y]"
      ]
    },
    {
      "cell_type": "code",
      "execution_count": 18,
      "metadata": {
        "colab": {
          "base_uri": "https://localhost:8080/"
        },
        "id": "wFF84Ep7VN6c",
        "outputId": "96f78ab3-43cb-48d3-b70a-228d14a75233"
      },
      "outputs": [
        {
          "output_type": "execute_result",
          "data": {
            "text/plain": [
              "(51, 200)"
            ]
          },
          "metadata": {},
          "execution_count": 18
        }
      ],
      "source": [
        "misclassified = [i for i, (x, y) in enumerate(zip(y_p, y_new)) if x != y]\n",
        "len(misclassified),len(y_new)"
      ]
    },
    {
      "cell_type": "code",
      "execution_count": 19,
      "metadata": {
        "colab": {
          "base_uri": "https://localhost:8080/"
        },
        "id": "GxAZgfv8VxRW",
        "outputId": "166908fe-17a5-45ad-933d-8ae094379360"
      },
      "outputs": [
        {
          "output_type": "execute_result",
          "data": {
            "text/plain": [
              "[{'label': 'LABEL_1', 'score': 0.4658605754375458}]"
            ]
          },
          "metadata": {},
          "execution_count": 19
        }
      ],
      "source": [
        "classifier(df['text'][20])"
      ]
    },
    {
      "cell_type": "code",
      "execution_count": 20,
      "metadata": {
        "colab": {
          "base_uri": "https://localhost:8080/",
          "height": 35
        },
        "id": "0PwwZHKNX5W-",
        "outputId": "546ea0e2-c112-48fa-b227-2297573582e1"
      },
      "outputs": [
        {
          "output_type": "execute_result",
          "data": {
            "text/plain": [
              "'neutral'"
            ],
            "application/vnd.google.colaboratory.intrinsic+json": {
              "type": "string"
            }
          },
          "metadata": {},
          "execution_count": 20
        }
      ],
      "source": [
        "df['sentiment'][20]"
      ]
    },
    {
      "cell_type": "code",
      "source": [
        "\n",
        "import matplotlib.pyplot as plt"
      ],
      "metadata": {
        "id": "lXvEyDBWILaD"
      },
      "execution_count": 21,
      "outputs": []
    },
    {
      "cell_type": "code",
      "execution_count": 22,
      "metadata": {
        "id": "kyAWGsMMYGFu",
        "colab": {
          "base_uri": "https://localhost:8080/",
          "height": 290
        },
        "outputId": "7cbced25-c1e0-4232-8028-88b68da5523a"
      },
      "outputs": [
        {
          "output_type": "display_data",
          "data": {
            "text/plain": [
              "<Figure size 300x300 with 1 Axes>"
            ],
            "image/png": "[encoded data removed]"
          },
          "metadata": {}
        }
      ],
      "source": [
        "plt.figure(figsize=(3, 3))\n",
        "plt.pie([len(misclassified), len(y_new)-len(misclassified)], labels=['Misclassified','Correctly Classified'], colors=['red','yellow'])\n",
        "plt.title('Missclassified vs Correctly Classified')\n",
        "plt.show()"
      ]
    },
    {
      "cell_type": "code",
      "source": [
        "acc = 1- len(misclassified)/(len(y_new)-len(misclassified))"
      ],
      "metadata": {
        "id": "vDAob8t_IMVG"
      },
      "execution_count": 23,
      "outputs": []
    },
    {
      "cell_type": "code",
      "source": [
        "acc #accuracy"
      ],
      "metadata": {
        "colab": {
          "base_uri": "https://localhost:8080/"
        },
        "id": "kVhlQK86Jvjg",
        "outputId": "0798b8be-6fc1-4579-a7f6-7c98da39ff2b"
      },
      "execution_count": 24,
      "outputs": [
        {
          "output_type": "execute_result",
          "data": {
            "text/plain": [
              "0.6577181208053691"
            ]
          },
          "metadata": {},
          "execution_count": 24
        }
      ]
    },
    {
      "cell_type": "code",
      "source": [],
      "metadata": {
        "id": "_uQ_y27qJ28j"
      },
      "execution_count": null,
      "outputs": []
    }
  ],
  "metadata": {
    "colab": {
      "provenance": [],
      "authorship_tag": "ABX9TyOPEf3gswF2C6x+z3aYa6Eh",
      "include_colab_link": true
    },
    "kernelspec": {
      "display_name": "Python 3",
      "name": "python3"
    },
    "language_info": {
      "name": "python"
    }
  },
  "nbformat": 4,
  "nbformat_minor": 0
}